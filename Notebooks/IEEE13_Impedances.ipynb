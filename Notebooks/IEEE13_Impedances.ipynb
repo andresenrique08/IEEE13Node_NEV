{
 "cells": [
  {
   "cell_type": "markdown",
   "source": [
    "# Impedance Matrix for IEEE 13 Node Test Feeder\n",
    "The simplified carson's method is used to calculate the impedance matrix for the IEEE 13 node test feeder. The impedance matrix is calculated for the 7 different configurations of the test feeder. The impedance matrix is calculated for the following configurations:\n",
    "1. Overhead Line\n",
    "\n",
    "    | Config. | Phasing | Phase ACSR | Neutral ACSR | Spacing ID |\n",
    "    |---------|---------|-------|---------|---------|\n",
    "    | 601     | B A C N | 556,500 26/7 | 4/0 6/1 | 500     |\n",
    "    | 602     | C A B N | 4/0 6/1       | 4/0 6/1 | 500     |\n",
    "    | 603     | C B N   | 1/0           | 1/0     | 505     |\n",
    "    | 604     | A C N   | 1/0           | 1/0     | 505     |\n",
    "    | 605     | C N     | 1/0           | 1/0     | 510     |\n",
    "\n",
    "2. Underground Line\n",
    "\n",
    "    | Config. | Phasing | Phase ACSR | Neutral ACSR | Spacing ID |\n",
    "    |---------|---------|-------|---------|---------|\n",
    "    | 606     | A B C N | 250,000 AA, CN | None | 515     |\n",
    "    | 607     | A N | 1/0 AA, TS       | 1/0 Cu | 520     |\n",
    "   \n",
    "\n",
    "To calculate the impedance matrix, the simplified carson's equations are used. The equation for self impedance, considering the modified Carson's equations, is given by:\n",
    "$$Z_{ii} = r_i + 0.09530 + j0.12134 \\left( \\ln \\frac{1}{GMR_i} + 7.93402 \\right)~~ \\Omega/mile$$\n",
    "\n",
    "And the equation for mutual impedance, considering the modified Carson's equations, is given by:\n",
    "$$Z_{ij} = 0.09530 + j0.12134 \\left( \\ln \\frac{1}{D_{ij}} + 7.93402 \\right)~~ \\Omega/mile$$"
   ],
   "metadata": {
    "collapsed": false
   },
   "id": "b13f87fd82996726"
  },
  {
   "cell_type": "code",
   "outputs": [],
   "source": [
    "# Libraries\n",
    "import numpy as np"
   ],
   "metadata": {
    "collapsed": false,
    "ExecuteTime": {
     "end_time": "2024-02-21T19:23:42.545188Z",
     "start_time": "2024-02-21T19:23:42.425261700Z"
    }
   },
   "id": "7de432c592e9d2ff",
   "execution_count": 2
  },
  {
   "cell_type": "markdown",
   "source": [
    "## Functions for Carson's Equations"
   ],
   "metadata": {
    "collapsed": false
   },
   "id": "bc4b751cba8e37"
  },
  {
   "cell_type": "code",
   "outputs": [],
   "source": [
    "# Self and mutual impedance functions\n",
    "def self_impedance(r, GMR):\n",
    "    \"\"\"\n",
    "    Function to calculate the self impedance of a conductor using the modified Carson's equations.\n",
    "    Args:\n",
    "    r: float: Resistance of the conductor in ohms/mile\n",
    "    GMR: float: Geometric Mean Radius of the conductor in feet\n",
    "    Returns:\n",
    "    complex: Self impedance of the conductor in ohms/mile\n",
    "    \"\"\"\n",
    "    return np.round(r + 0.09530 + 1j*0.12134*(np.log(1/GMR) + 7.93402),4)\n",
    "\n",
    "def mutual_impedance(D):\n",
    "    \"\"\"\n",
    "    Function to calculate the mutual impedance of a conductor using the modified Carson's equations.\n",
    "    :param D: \n",
    "    :return: \n",
    "    \"\"\"\n",
    "    return np.round(0.09530 + 1j*0.12134*(np.log(1/D) + 7.93402),4)"
   ],
   "metadata": {
    "collapsed": false,
    "ExecuteTime": {
     "end_time": "2024-02-21T19:23:42.573926300Z",
     "start_time": "2024-02-21T19:23:42.542134900Z"
    }
   },
   "id": "a167dd510b433733",
   "execution_count": 3
  },
  {
   "cell_type": "code",
   "outputs": [],
   "source": [
    "# Overhead Line Spacing\n",
    "def id_500():\n",
    "    \"\"\"\n",
    "    Function to calculate distance between conductors for spacing 500\n",
    "    :return: D12, D13, D23, D14, D24, D34\n",
    "    \"\"\"\n",
    "    D12 = 2.5\n",
    "    D23 = 4.5\n",
    "    h43 = 4\n",
    "    x04 = 0.5\n",
    "    D13 = D12 + D23\n",
    "    D14 = np.sqrt((D13/2+x04)**2 + h43**2)\n",
    "    D24 = np.sqrt((D13/2+x04-D12)**2 + h43**2)\n",
    "    D34 = np.sqrt((D13/2-x04)**2 + h43**2)\n",
    "    return D12, D13, D23, D14, D24, D34\n",
    "    \n",
    "    \n",
    "def id_505():\n",
    "    \"\"\"\n",
    "    Function to calculate distance between conductors for spacing 505\n",
    "    :return: D12, D14, D24\n",
    "    \"\"\"\n",
    "    D12 = 7\n",
    "    h43 = 4\n",
    "    x04 = 0.5\n",
    "    D14 = np.sqrt((D12/2+x04)**2 + h43**2)\n",
    "    D24 = np.sqrt((D12/2-x04)**2 + h43**2)\n",
    "    return D12, D14, D24\n",
    "    \n",
    "def id_510():\n",
    "    \"\"\"\n",
    "    Function to calculate distance between conductors for spacing 510\n",
    "    :return: D14\n",
    "    \"\"\"\n",
    "    h14 = 5\n",
    "    x04 = 0.5\n",
    "    D14 = np.sqrt((x04)**2 + h14**2)\n",
    "    return D14"
   ],
   "metadata": {
    "collapsed": false,
    "ExecuteTime": {
     "end_time": "2024-02-21T19:23:42.577445600Z",
     "start_time": "2024-02-21T19:23:42.549202500Z"
    }
   },
   "id": "d5b432caaffb3638",
   "execution_count": 4
  },
  {
   "cell_type": "code",
   "outputs": [],
   "source": [
    "def kron_reduction_4x4_a_3x3(Z):\n",
    "    \"\"\"\n",
    "    Función para realizar la reducción de Kron de una matriz de impedancias 4x4 a una matriz de impedancias 3x3.\n",
    "\n",
    "    Parámetros:\n",
    "        Z (array): Matriz de impedancias 4x4.\n",
    "\n",
    "    Retorna:\n",
    "        Z_reducida (array): Matriz de impedancias reducida 3x3.\n",
    "    \"\"\"\n",
    "    Z_reducida = np.zeros((3, 3), dtype=complex)\n",
    "\n",
    "    Z_reducida[0, 0] = np.round(Z[0, 0] - Z[0, 3] * (1 / Z[3, 3]) * Z[3, 0],4)\n",
    "    Z_reducida[0, 1] = np.round(Z[0, 1] - Z[0, 3] * (1 / Z[3, 3]) * Z[3, 1],4)\n",
    "    Z_reducida[0, 2] = np.round(Z[0, 2] - Z[0, 3] * (1 / Z[3, 3]) * Z[3, 2],4)\n",
    "    Z_reducida[1, 0] = np.round(Z[1, 0] - Z[1, 3] * (1 / Z[3, 3]) * Z[3, 0],4)\n",
    "    Z_reducida[1, 1] = np.round(Z[1, 1] - Z[1, 3] * (1 / Z[3, 3]) * Z[3, 1],4)\n",
    "    Z_reducida[1, 2] = np.round(Z[1, 2] - Z[1, 3] * (1 / Z[3, 3]) * Z[3, 2],4)\n",
    "    Z_reducida[2, 0] = np.round(Z[2, 0] - Z[2, 3] * (1 / Z[3, 3]) * Z[3, 0],4)\n",
    "    Z_reducida[2, 1] = np.round(Z[2, 1] - Z[2, 3] * (1 / Z[3, 3]) * Z[3, 1],4)\n",
    "    Z_reducida[2, 2] = np.round(Z[2, 2] - Z[2, 3] * (1 / Z[3, 3]) * Z[3, 2],4)\n",
    "\n",
    "    return Z_reducida"
   ],
   "metadata": {
    "collapsed": false,
    "ExecuteTime": {
     "end_time": "2024-02-21T19:23:42.578444400Z",
     "start_time": "2024-02-21T19:23:42.557189400Z"
    }
   },
   "id": "3cd4b8318b8e6e1f",
   "execution_count": 5
  },
  {
   "cell_type": "markdown",
   "source": [
    "## Configuration 601"
   ],
   "metadata": {
    "collapsed": false
   },
   "id": "97dfb8d8b6e1b5d7"
  },
  {
   "cell_type": "code",
   "outputs": [
    {
     "name": "stdout",
     "output_type": "stream",
     "text": [
      "Impedance Matrix using modified Carson´s equation for configuration 601:\n",
      "\n",
      "[[0.2812+1.3831j 0.0953+0.8515j 0.0953+0.7802j 0.0953+0.7865j]\n",
      " [0.0953+0.8515j 0.2812+1.3831j 0.0953+0.7266j 0.0953+0.7524j]\n",
      " [0.0953+0.7802j 0.0953+0.7266j 0.2812+1.3831j 0.0953+0.7674j]\n",
      " [0.0953+0.7865j 0.0953+0.7524j 0.0953+0.7674j 0.6873+1.5465j]]\n"
     ]
    }
   ],
   "source": [
    "GMRc_601 = 0.0313\n",
    "GMRn_601 = 0.00814\n",
    "r_c_601 = 0.1859\n",
    "r_n_601 = 0.592\n",
    "\n",
    "D12, D13, D23, D14, D24, D34 = id_500()\n",
    "Z_aa = self_impedance(r_c_601, GMRc_601)\n",
    "Z_bb = self_impedance(r_c_601, GMRc_601)\n",
    "Z_cc = self_impedance(r_c_601, GMRc_601)\n",
    "Z_nn = self_impedance(r_n_601, GMRn_601)\n",
    "Z_ab = mutual_impedance(D12)\n",
    "Z_ac = mutual_impedance(D23)\n",
    "Z_bc = mutual_impedance(D13)\n",
    "Z_an = mutual_impedance(D24)\n",
    "Z_bn = mutual_impedance(D14)\n",
    "Z_cn = mutual_impedance(D34)\n",
    "\n",
    "Z_601 = np.array([[Z_aa, Z_ab, Z_ac, Z_an],\n",
    "              [Z_ab, Z_bb, Z_bc, Z_bn],\n",
    "              [Z_ac, Z_bc, Z_cc, Z_cn],\n",
    "              [Z_an, Z_bn, Z_cn, Z_nn]])\n",
    "\n",
    "print(f'Impedance Matrix using modified Carson´s equation for configuration 601:\\n')\n",
    "print(Z_601)"
   ],
   "metadata": {
    "collapsed": false,
    "ExecuteTime": {
     "end_time": "2024-02-21T19:23:42.595391200Z",
     "start_time": "2024-02-21T19:23:42.565561700Z"
    }
   },
   "id": "c4c6d18dc21241c",
   "execution_count": 6
  },
  {
   "cell_type": "code",
   "outputs": [
    {
     "name": "stdout",
     "output_type": "stream",
     "text": [
      "\n",
      "Reduced Impedance Matrix for configuration 601:\n",
      "\n",
      "[[0.3465+1.018j  0.1559+0.5017j 0.158 +0.4237j]\n",
      " [0.1559+0.5017j 0.3374+1.0479j 0.1535+0.385j ]\n",
      " [0.158 +0.4237j 0.1535+0.385j  0.3414+1.0349j]]\n"
     ]
    }
   ],
   "source": [
    "# Reduced Impedance Matrix\n",
    "Z_601_reduced = kron_reduction_4x4_a_3x3(Z_601)\n",
    "print(f'\\nReduced Impedance Matrix for configuration 601:\\n')\n",
    "print(Z_601_reduced)"
   ],
   "metadata": {
    "collapsed": false,
    "ExecuteTime": {
     "end_time": "2024-02-21T19:23:42.653519700Z",
     "start_time": "2024-02-21T19:23:42.569571500Z"
    }
   },
   "id": "a998d693530e69fc",
   "execution_count": 7
  },
  {
   "cell_type": "markdown",
   "source": [
    "## Configuration 602"
   ],
   "metadata": {
    "collapsed": false
   },
   "id": "8089c55d37737ebb"
  },
  {
   "cell_type": "code",
   "outputs": [
    {
     "name": "stdout",
     "output_type": "stream",
     "text": [
      "Impedance Matrix using modified Carson´s equation for configuration 602:\n",
      "\n",
      "[[0.6873+1.5465j 0.0953+0.7802j 0.0953+0.8515j 0.0953+0.7865j]\n",
      " [0.0953+0.7802j 0.6873+1.5465j 0.0953+0.7266j 0.0953+0.7674j]\n",
      " [0.0953+0.8515j 0.0953+0.7266j 0.6873+1.5465j 0.0953+0.7524j]\n",
      " [0.0953+0.7865j 0.0953+0.7674j 0.0953+0.7524j 0.6873+1.5465j]]\n"
     ]
    }
   ],
   "source": [
    "GMRc_602 = 0.00814\n",
    "GMRn_602 = 0.00814\n",
    "r_c_602 = 0.592\n",
    "r_n_602 = 0.592\n",
    "\n",
    "D12, D13, D23, D14, D24, D34 = id_500()\n",
    "Z_aa = self_impedance(r_c_602, GMRc_602)\n",
    "Z_bb = self_impedance(r_c_602, GMRc_602)\n",
    "Z_cc = self_impedance(r_c_602, GMRc_602)\n",
    "Z_nn = self_impedance(r_n_602, GMRn_602)\n",
    "Z_ab = mutual_impedance(D23)\n",
    "Z_ac = mutual_impedance(D12)\n",
    "Z_bc = mutual_impedance(D13)\n",
    "Z_an = mutual_impedance(D24)\n",
    "Z_bn = mutual_impedance(D34)\n",
    "Z_cn = mutual_impedance(D14)\n",
    "\n",
    "Z_602 = np.array([[Z_aa, Z_ab, Z_ac, Z_an],\n",
    "              [Z_ab, Z_bb, Z_bc, Z_bn],\n",
    "              [Z_ac, Z_bc, Z_cc, Z_cn],\n",
    "              [Z_an, Z_bn, Z_cn, Z_nn]])\n",
    "\n",
    "print(f'Impedance Matrix using modified Carson´s equation for configuration 602:\\n')\n",
    "print(Z_602)"
   ],
   "metadata": {
    "collapsed": false,
    "ExecuteTime": {
     "end_time": "2024-02-21T19:23:42.658063900Z",
     "start_time": "2024-02-21T19:23:42.582447500Z"
    }
   },
   "id": "fb58d7a3e88393e2",
   "execution_count": 8
  },
  {
   "cell_type": "code",
   "outputs": [
    {
     "name": "stdout",
     "output_type": "stream",
     "text": [
      "\n",
      "Reduced Impedance Matrix for configuration 602:\n",
      "\n",
      "[[0.7526+1.1814j 0.158 +0.4237j 0.1559+0.5017j]\n",
      " [0.158 +0.4237j 0.7475+1.1983j 0.1535+0.385j ]\n",
      " [0.1559+0.5017j 0.1535+0.385j  0.7435+1.2113j]]\n"
     ]
    }
   ],
   "source": [
    "# Reduced Impedance Matrix\n",
    "Z_602_reduced = kron_reduction_4x4_a_3x3(Z_602)\n",
    "print(f'\\nReduced Impedance Matrix for configuration 602:\\n')\n",
    "print(Z_602_reduced)"
   ],
   "metadata": {
    "collapsed": false,
    "ExecuteTime": {
     "end_time": "2024-02-21T19:23:42.697634300Z",
     "start_time": "2024-02-21T19:23:42.661173300Z"
    }
   },
   "id": "4638b194871561a5",
   "execution_count": 9
  },
  {
   "cell_type": "markdown",
   "source": [
    "# Configuration 603"
   ],
   "metadata": {
    "collapsed": false
   },
   "id": "11645867a782aa2f"
  },
  {
   "cell_type": "code",
   "outputs": [
    {
     "name": "stdout",
     "output_type": "stream",
     "text": [
      "Impedance Matrix using modified Carson´s equation for configuration 603:\n",
      "\n",
      "[[0.    +0.j     0.    +0.j     0.    +0.j     0.    +0.j    ]\n",
      " [0.    +0.j     1.2153+1.6195j 0.0953+0.7266j 0.0953+0.7674j]\n",
      " [0.    +0.j     0.0953+0.7266j 1.2153+1.6195j 0.0953+0.7524j]\n",
      " [0.    +0.j     0.0953+0.7674j 0.0953+0.7524j 1.2153+1.6195j]]\n"
     ]
    }
   ],
   "source": [
    "GMRc_603 = 0.00446\n",
    "GMRn_603 = 0.00446\n",
    "r_c_603 = 1.12\n",
    "r_n_603 = 1.12\n",
    "\n",
    "D12, D14, D24 = id_505()\n",
    "Z_aa = 0\n",
    "Z_bb = self_impedance(r_c_603, GMRc_603)\n",
    "Z_cc = self_impedance(r_c_603, GMRc_603)\n",
    "Z_nn = self_impedance(r_n_603, GMRn_603)\n",
    "Z_ab = 0\n",
    "Z_ac = 0\n",
    "Z_bc = mutual_impedance(D12)\n",
    "Z_an = 0\n",
    "Z_bn = mutual_impedance(D24)\n",
    "Z_cn = mutual_impedance(D14)\n",
    "\n",
    "Z_603 = np.array([[Z_aa, Z_ab, Z_ac, Z_an],\n",
    "              [Z_ab, Z_bb, Z_bc, Z_bn],\n",
    "              [Z_ac, Z_bc, Z_cc, Z_cn],\n",
    "              [Z_an, Z_bn, Z_cn, Z_nn]])\n",
    "\n",
    "print(f'Impedance Matrix using modified Carson´s equation for configuration 603:\\n')\n",
    "print(Z_603)"
   ],
   "metadata": {
    "collapsed": false,
    "ExecuteTime": {
     "end_time": "2024-02-21T19:23:42.753605500Z",
     "start_time": "2024-02-21T19:23:42.687110700Z"
    }
   },
   "id": "55d6e90f03ccfd34",
   "execution_count": 10
  },
  {
   "cell_type": "code",
   "outputs": [
    {
     "name": "stdout",
     "output_type": "stream",
     "text": [
      "\n",
      "Reduced Impedance Matrix for configuration 603:\n",
      "\n",
      "[[0.    +0.j     0.    +0.j     0.    +0.j    ]\n",
      " [0.    +0.j     1.3294+1.3471j 0.2066+0.4592j]\n",
      " [0.    +0.j     0.2066+0.4592j 1.3238+1.357j ]]\n"
     ]
    }
   ],
   "source": [
    "# Reduced Impedance Matrix\n",
    "Z_603_reduced = kron_reduction_4x4_a_3x3(Z_603)\n",
    "print(f'\\nReduced Impedance Matrix for configuration 603:\\n')\n",
    "print(Z_603_reduced)"
   ],
   "metadata": {
    "collapsed": false,
    "ExecuteTime": {
     "end_time": "2024-02-21T19:23:42.757132200Z",
     "start_time": "2024-02-21T19:23:42.706408600Z"
    }
   },
   "id": "f424cd683e7ccf74",
   "execution_count": 11
  },
  {
   "cell_type": "markdown",
   "source": [
    "## Configuration 604"
   ],
   "metadata": {
    "collapsed": false
   },
   "id": "ab8001eb6c9616cd"
  },
  {
   "cell_type": "code",
   "outputs": [
    {
     "name": "stdout",
     "output_type": "stream",
     "text": [
      "Impedance Matrix using modified Carson´s equation for configuration 604:\n",
      "\n",
      "[[1.2153+1.6195j 0.    +0.j     0.0953+0.7266j 0.0953+0.7524j]\n",
      " [0.    +0.j     0.    +0.j     0.    +0.j     0.    +0.j    ]\n",
      " [0.0953+0.7266j 0.    +0.j     1.2153+1.6195j 0.0953+0.7674j]\n",
      " [0.0953+0.7524j 0.    +0.j     0.0953+0.7674j 1.2153+1.6195j]]\n"
     ]
    }
   ],
   "source": [
    "GMRc_604 = 0.00446\n",
    "GMRn_604 = 0.00446\n",
    "r_c_604 = 1.12\n",
    "r_n_604 = 1.12\n",
    "\n",
    "D12, D14, D24 = id_505()\n",
    "Z_aa = self_impedance(r_c_604, GMRc_604)\n",
    "Z_bb = 0\n",
    "Z_cc = self_impedance(r_c_604, GMRc_604)\n",
    "Z_nn = self_impedance(r_n_604, GMRn_604)\n",
    "Z_ab = 0\n",
    "Z_ac = mutual_impedance(D12)\n",
    "Z_bc = 0\n",
    "Z_an = mutual_impedance(D14)\n",
    "Z_bn = 0\n",
    "Z_cn = mutual_impedance(D24)\n",
    "\n",
    "Z_604 = np.array([[Z_aa, Z_ab, Z_ac, Z_an],\n",
    "              [Z_ab, Z_bb, Z_bc, Z_bn],\n",
    "              [Z_ac, Z_bc, Z_cc, Z_cn],\n",
    "              [Z_an, Z_bn, Z_cn, Z_nn]])\n",
    "\n",
    "print(f'Impedance Matrix using modified Carson´s equation for configuration 604:\\n')\n",
    "print(Z_604)"
   ],
   "metadata": {
    "collapsed": false,
    "ExecuteTime": {
     "end_time": "2024-02-21T19:23:42.856182900Z",
     "start_time": "2024-02-21T19:23:42.760215Z"
    }
   },
   "id": "2715574e650104b7",
   "execution_count": 12
  },
  {
   "cell_type": "code",
   "outputs": [
    {
     "name": "stdout",
     "output_type": "stream",
     "text": [
      "\n",
      "Reduced Impedance Matrix for configuration 604:\n",
      "\n",
      "[[1.3238+1.357j  0.    +0.j     0.2066+0.4592j]\n",
      " [0.    +0.j     0.    +0.j     0.    +0.j    ]\n",
      " [0.2066+0.4592j 0.    +0.j     1.3294+1.3471j]]\n"
     ]
    }
   ],
   "source": [
    "# Reduced Impedance Matrix\n",
    "Z_604_reduced = kron_reduction_4x4_a_3x3(Z_604)\n",
    "print(f'\\nReduced Impedance Matrix for configuration 604:\\n')\n",
    "print(Z_604_reduced)"
   ],
   "metadata": {
    "collapsed": false,
    "ExecuteTime": {
     "end_time": "2024-02-21T19:23:42.880313500Z",
     "start_time": "2024-02-21T19:23:42.842113100Z"
    }
   },
   "id": "3bc768dec4d77023",
   "execution_count": 13
  },
  {
   "cell_type": "markdown",
   "source": [
    "## Configuration 605"
   ],
   "metadata": {
    "collapsed": false
   },
   "id": "45ae27d1334cd420"
  },
  {
   "cell_type": "code",
   "outputs": [
    {
     "name": "stdout",
     "output_type": "stream",
     "text": [
      "Impedance Matrix using modified Carson´s equation for configuration 605:\n",
      "\n",
      "[[0.    +0.j     0.    +0.j     0.    +0.j     0.    +0.j    ]\n",
      " [0.    +0.j     0.    +0.j     0.    +0.j     0.    +0.j    ]\n",
      " [0.    +0.j     0.    +0.j     1.2153+1.6195j 0.0953+0.7668j]\n",
      " [0.    +0.j     0.    +0.j     0.0953+0.7668j 1.2153+1.6195j]]\n"
     ]
    }
   ],
   "source": [
    "GMRc_605 = 0.00446\n",
    "GMRn_605 = 0.00446\n",
    "r_c_605 = 1.12\n",
    "r_n_605 = 1.12\n",
    "\n",
    "D14 = id_510()\n",
    "Z_aa = 0\n",
    "Z_bb = 0\n",
    "Z_cc = self_impedance(r_c_605, GMRc_605)\n",
    "Z_nn = self_impedance(r_n_605, GMRn_605)\n",
    "Z_ab = 0\n",
    "Z_ac = 0\n",
    "Z_bc = 0\n",
    "Z_an = 0\n",
    "Z_bn = 0\n",
    "Z_cn = mutual_impedance(D14)\n",
    "\n",
    "Z_605 = np.array([[Z_aa, Z_ab, Z_ac, Z_an],\n",
    "              [Z_ab, Z_bb, Z_bc, Z_bn],\n",
    "              [Z_ac, Z_bc, Z_cc, Z_cn],\n",
    "              [Z_an, Z_bn, Z_cn, Z_nn]])\n",
    "\n",
    "print(f'Impedance Matrix using modified Carson´s equation for configuration 605:\\n')\n",
    "print(Z_605)"
   ],
   "metadata": {
    "collapsed": false,
    "ExecuteTime": {
     "end_time": "2024-02-21T19:23:42.929039700Z",
     "start_time": "2024-02-21T19:23:42.868780600Z"
    }
   },
   "id": "dfdb5b030b669e6f",
   "execution_count": 14
  },
  {
   "cell_type": "code",
   "outputs": [
    {
     "name": "stdout",
     "output_type": "stream",
     "text": [
      "\n",
      "Reduced Impedance Matrix for configuration 605:\n",
      "\n",
      "[[0.    +0.j     0.    +0.j     0.    +0.j    ]\n",
      " [0.    +0.j     0.    +0.j     0.    +0.j    ]\n",
      " [0.    +0.j     0.    +0.j     1.3292+1.3475j]]\n"
     ]
    }
   ],
   "source": [
    "# Reduced Impedance Matrix\n",
    "Z_605_reduced = kron_reduction_4x4_a_3x3(Z_605)\n",
    "print(f'\\nReduced Impedance Matrix for configuration 605:\\n')\n",
    "print(Z_605_reduced)"
   ],
   "metadata": {
    "collapsed": false,
    "ExecuteTime": {
     "end_time": "2024-02-21T19:23:42.933040Z",
     "start_time": "2024-02-21T19:23:42.888850300Z"
    }
   },
   "id": "289970408cee2a0b",
   "execution_count": 15
  },
  {
   "cell_type": "markdown",
   "source": [
    "## Configuration 606"
   ],
   "metadata": {
    "collapsed": false
   },
   "id": "f15d363591458738"
  },
  {
   "cell_type": "code",
   "outputs": [
    {
     "name": "stdout",
     "output_type": "stream",
     "text": [
      "Impedance Matrix using modified Carson´s equation for configuration 606:\n",
      "\n",
      "[[0.5053+1.4564j 0.0953+1.0468j 0.0953+0.9627j 0.0953+1.3236j\n",
      "  0.0953+1.0468j 0.0953+0.9627j]\n",
      " [0.0953+1.0468j 0.5053+1.4564j 0.0953+1.0468j 0.0953+1.0468j\n",
      "  0.0953+1.3236j 0.0953+1.0468j]\n",
      " [0.0953+0.9627j 0.0953+1.0468j 0.5053+1.4564j 0.0953+0.9627j\n",
      "  0.0953+1.0468j 0.0953+1.3236j]\n",
      " [0.0953+1.3236j 0.0953+1.0468j 0.0953+0.9627j 1.2393+1.3294j\n",
      "  0.0953+1.0468j 0.0953+0.9627j]\n",
      " [0.0953+1.0468j 0.0953+1.3236j 0.0953+1.0468j 0.0953+1.0468j\n",
      "  1.2393+1.3294j 0.0953+1.0468j]\n",
      " [0.0953+0.9627j 0.0953+1.0468j 0.0953+1.3236j 0.0953+0.9627j\n",
      "  0.0953+1.0468j 1.2393+1.3294j]]\n"
     ]
    }
   ],
   "source": [
    "# Based on Kersting's book\n",
    "# Data\n",
    "k = 13\n",
    "# 250,000 AA conductor\n",
    "GMRc_606 = 0.0171\n",
    "Diameter_606 = 0.567\n",
    "d_od_606 = 1.29\n",
    "r_c_606 = 0.41\n",
    "# 14 copper neutral strands\n",
    "GMRs_606 = 0.00208\n",
    "d_s_606 = 0.0641\n",
    "r_n_606 = 14.8722\n",
    "\n",
    "# The radius of the circle passing through the center of the strands is given by:\n",
    "R_606 = np.round((d_od_606 - d_s_606)/24,4)\n",
    "\n",
    "# The equivalent GMR of the concentric neutral is given by:\n",
    "GMRcn_606 = np.round((GMRs_606*k*R_606**(k-1))**(1/k),4)\n",
    "\n",
    "# The equivalent resistance of the concentric neutral is given by:\n",
    "r_cn_606 = np.round(r_n_606/k,4)\n",
    "\n",
    "# The distance in the concentric neutral is given by:\n",
    "D_606 = 0.5 # feet\n",
    "# Consider 1,2,3 the conductors and 4,5,6 the neutrals\n",
    "D12 = D_606\n",
    "D13 = 2*D_606\n",
    "D23 = D_606\n",
    "D45 = D_606\n",
    "D46 = 2*D_606\n",
    "D56 = D_606\n",
    "# The spacing between the conductors and their concentral neutral is given by:\n",
    "D14 = R_606\n",
    "D25 = R_606\n",
    "D36 = R_606\n",
    "D15 = D_606\n",
    "D26 = D_606\n",
    "D16 = 2*D_606\n",
    "\n",
    "# Applying the carson's equations\n",
    "# Self impedances\n",
    "Z_11 = self_impedance(r_c_606, GMRc_606)\n",
    "Z_22 = self_impedance(r_c_606, GMRc_606)\n",
    "Z_33 = self_impedance(r_c_606, GMRc_606)\n",
    "Z_44 = self_impedance(r_cn_606, GMRcn_606)\n",
    "Z_55 = self_impedance(r_cn_606, GMRcn_606)\n",
    "Z_66 = self_impedance(r_cn_606, GMRcn_606)\n",
    "\n",
    "# Mutual impedances\n",
    "Z_12 = mutual_impedance(D12)\n",
    "Z_13 = mutual_impedance(D13)\n",
    "Z_23 = mutual_impedance(D23)\n",
    "Z_14 = mutual_impedance(D14)\n",
    "Z_25 = mutual_impedance(D25)\n",
    "Z_36 = mutual_impedance(D36)\n",
    "Z_15 = mutual_impedance(D15)\n",
    "Z_26 = mutual_impedance(D26)\n",
    "Z_16 = mutual_impedance(D16)\n",
    "Z_45 = mutual_impedance(D45)\n",
    "Z_46 = mutual_impedance(D46)\n",
    "Z_56 = mutual_impedance(D56)\n",
    "\n",
    "# Impedance matrix\n",
    "Z_606 = np.array([[Z_11, Z_12, Z_13, Z_14, Z_15, Z_16],\n",
    "              [Z_12, Z_22, Z_23, Z_15, Z_25, Z_26],\n",
    "              [Z_13, Z_23, Z_33, Z_16, Z_26, Z_36],\n",
    "              [Z_14, Z_15, Z_16, Z_44, Z_45, Z_46],\n",
    "              [Z_15, Z_25, Z_26, Z_45, Z_55, Z_56],\n",
    "              [Z_16, Z_26, Z_36, Z_46, Z_56, Z_66]])\n",
    "\n",
    "print(f'Impedance Matrix using modified Carson´s equation for configuration 606:\\n')\n",
    "print(Z_606)\n"
   ],
   "metadata": {
    "collapsed": false,
    "ExecuteTime": {
     "end_time": "2024-02-21T19:23:43.013276Z",
     "start_time": "2024-02-21T19:23:42.944205500Z"
    }
   },
   "id": "bff665beb4193148",
   "execution_count": 16
  },
  {
   "cell_type": "code",
   "outputs": [
    {
     "name": "stdout",
     "output_type": "stream",
     "text": [
      "\n",
      "Reduced Impedance Matrix for configuration 606:\n",
      "\n",
      "[[0.7982+0.4463j 0.3192+0.0328j 0.2849-0.0143j]\n",
      " [0.3192+0.0328j 0.7891+0.4041j 0.3192+0.0328j]\n",
      " [0.2849-0.0143j 0.3192+0.0328j 0.7982+0.4463j]]\n"
     ]
    }
   ],
   "source": [
    "# Kron reduction\n",
    "Z_ij_606 = Z_606[0:3, 0:3]\n",
    "Z_in_606 = Z_606[0:3, 3:6]\n",
    "Z_nj_606 = Z_606[3:6, 0:3]\n",
    "Z_nn_606 = Z_606[3:6, 3:6]\n",
    "\n",
    "Z_606_reduced = np.round(Z_ij_606 - Z_in_606 @ np.linalg.inv(Z_nn_606) @ Z_nj_606,4)\n",
    "print(f'\\nReduced Impedance Matrix for configuration 606:\\n')\n",
    "print(Z_606_reduced)"
   ],
   "metadata": {
    "collapsed": false,
    "ExecuteTime": {
     "end_time": "2024-02-21T19:23:43.031843400Z",
     "start_time": "2024-02-21T19:23:43.017415500Z"
    }
   },
   "id": "9ba928dd8b353102",
   "execution_count": 17
  },
  {
   "cell_type": "markdown",
   "source": [
    "## Configuration 607"
   ],
   "metadata": {
    "collapsed": false
   },
   "id": "e4f296f75269b071"
  },
  {
   "cell_type": "code",
   "outputs": [
    {
     "name": "stdout",
     "output_type": "stream",
     "text": [
      "Impedance Matrix using modified Carson´s equation for configuration 607:\n",
      "\n",
      "[[1.0653+1.5088j 0.0953+1.3645j 0.0953+1.2642j]\n",
      " [0.0953+1.3645j 4.374 +1.3645j 0.0953+1.2642j]\n",
      " [0.0953+1.2642j 0.0953+1.2642j 0.7023+1.5085j]]\n"
     ]
    }
   ],
   "source": [
    "# Based on Kersting's book\n",
    "# Data\n",
    "# Cable 1/0 AA\n",
    "d_s_607 = 0.88\n",
    "r_c_607 = 0.97\n",
    "GMRc_607 = 0.0111\n",
    "T_607 = 5\n",
    "# Neutral 1/0 Cu\n",
    "r_n_607 = 0.607\n",
    "GMRn_607 = 0.01113\n",
    "Dnm_607 = 1\n",
    "\n",
    "# The resistance of TS is given by:\n",
    "r_shield_607 = 7.9385e8*(2.3715e-8)/(d_s_607*T_607)\n",
    "\n",
    "# The GMR of the TS is given by:\n",
    "GMR_shield_607 = (d_s_607-(T_607/1000))/24\n",
    "\n",
    "# The conductors are 1: 1/0 AA; 2: TS; 3: 1/0 cu\n",
    "D12 = GMR_shield_607\n",
    "D13 = Dnm_607/12\n",
    "\n",
    "# Applying the carson's equations\n",
    "# Self impedances\n",
    "Z_11 = self_impedance(r_c_607, GMRc_607)\n",
    "Z_22 = self_impedance(r_shield_607, GMR_shield_607)\n",
    "Z_33 = self_impedance(r_n_607, GMRn_607)\n",
    "\n",
    "# Mutual impedances\n",
    "Z_12 = mutual_impedance(D12)\n",
    "Z_13 = mutual_impedance(D13)\n",
    "Z_23 = mutual_impedance(D13)\n",
    "\n",
    "# Impedance matrix\n",
    "Z_607 = np.array([[Z_11, Z_12, Z_13],\n",
    "              [Z_12, Z_22, Z_23],\n",
    "              [Z_13, Z_23, Z_33]])\n",
    "\n",
    "print(f'Impedance Matrix using modified Carson´s equation for configuration 607:\\n')\n",
    "print(Z_607)"
   ],
   "metadata": {
    "collapsed": false,
    "ExecuteTime": {
     "end_time": "2024-02-21T19:23:43.101346800Z",
     "start_time": "2024-02-21T19:23:43.038058200Z"
    }
   },
   "id": "feef5f6661a42c9e",
   "execution_count": 18
  },
  {
   "cell_type": "code",
   "outputs": [
    {
     "name": "stdout",
     "output_type": "stream",
     "text": [
      "\n",
      "Reduced Impedance Matrix for configuration 607:\n",
      "\n",
      "[[1.3427+0.5122j]]\n"
     ]
    }
   ],
   "source": [
    "# Reduced Impedance Matrix\n",
    "Z_ij_607 = Z_607[0:1, 0:1]\n",
    "Z_in_607 = Z_607[0:1, 1:3]\n",
    "Z_nj_607 = Z_607[1:3, 0:1]\n",
    "Z_nn_607 = Z_607[1:3, 1:3]\n",
    "\n",
    "Z_607_reduced = np.round(Z_ij_607 - Z_in_607 @ np.linalg.inv(Z_nn_607) @ Z_nj_607,4)\n",
    "print(f'\\nReduced Impedance Matrix for configuration 607:\\n')\n",
    "print(Z_607_reduced)"
   ],
   "metadata": {
    "collapsed": false,
    "ExecuteTime": {
     "end_time": "2024-02-21T19:23:43.105344200Z",
     "start_time": "2024-02-21T19:23:43.052583600Z"
    }
   },
   "id": "a4878da273438e75",
   "execution_count": 19
  }
 ],
 "metadata": {
  "kernelspec": {
   "display_name": "Python 3",
   "language": "python",
   "name": "python3"
  },
  "language_info": {
   "codemirror_mode": {
    "name": "ipython",
    "version": 2
   },
   "file_extension": ".py",
   "mimetype": "text/x-python",
   "name": "python",
   "nbconvert_exporter": "python",
   "pygments_lexer": "ipython2",
   "version": "2.7.6"
  }
 },
 "nbformat": 4,
 "nbformat_minor": 5
}
